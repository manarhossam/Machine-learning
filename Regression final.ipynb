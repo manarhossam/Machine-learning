{
 "cells": [
  {
   "cell_type": "markdown",
   "id": "0b070e8a",
   "metadata": {},
   "source": [
    "# Import Libraries"
   ]
  },
  {
   "cell_type": "code",
   "execution_count": 1,
   "id": "1760cef5",
   "metadata": {},
   "outputs": [],
   "source": [
    "import pandas as pd\n",
    "import matplotlib.pyplot as plt\n",
    "import seaborn as sns\n",
    "import scipy \n",
    "import numpy as np\n",
    "from sklearn.model_selection import train_test_split , GridSearchCV\n",
    "from sklearn.linear_model import LinearRegression\n",
    "from sklearn.metrics import mean_squared_error, mean_absolute_error\n",
    "from sklearn.preprocessing import OneHotEncoder\n",
    "from sklearn.compose import ColumnTransformer\n",
    "from sklearn.preprocessing import StandardScaler, LabelEncoder, OneHotEncoder, PolynomialFeatures\n",
    "from sklearn.pipeline import Pipeline, FeatureUnion\n",
    "from sklearn_features.transformers import DataFrameSelector\n",
    "from sklearn.impute import SimpleImputer"
   ]
  },
  {
   "cell_type": "markdown",
   "id": "fcacc611",
   "metadata": {},
   "source": [
    "# Load Data"
   ]
  },
  {
   "cell_type": "code",
   "execution_count": 2,
   "id": "f224f9d1",
   "metadata": {},
   "outputs": [],
   "source": [
    "df = pd.read_csv(r\"E:\\Downloads\\archive (13)\\Clean_Dataset.csv\")"
   ]
  },
  {
   "cell_type": "markdown",
   "id": "7e6c20ff",
   "metadata": {},
   "source": [
    "# Data Preprocessing, Visualization, Exploration"
   ]
  },
  {
   "cell_type": "code",
   "execution_count": 3,
   "id": "3621e0e2",
   "metadata": {},
   "outputs": [
    {
     "data": {
      "text/html": [
       "<div>\n",
       "<style scoped>\n",
       "    .dataframe tbody tr th:only-of-type {\n",
       "        vertical-align: middle;\n",
       "    }\n",
       "\n",
       "    .dataframe tbody tr th {\n",
       "        vertical-align: top;\n",
       "    }\n",
       "\n",
       "    .dataframe thead th {\n",
       "        text-align: right;\n",
       "    }\n",
       "</style>\n",
       "<table border=\"1\" class=\"dataframe\">\n",
       "  <thead>\n",
       "    <tr style=\"text-align: right;\">\n",
       "      <th></th>\n",
       "      <th>Unnamed: 0</th>\n",
       "      <th>airline</th>\n",
       "      <th>flight</th>\n",
       "      <th>source_city</th>\n",
       "      <th>departure_time</th>\n",
       "      <th>stops</th>\n",
       "      <th>arrival_time</th>\n",
       "      <th>destination_city</th>\n",
       "      <th>class</th>\n",
       "      <th>duration</th>\n",
       "      <th>days_left</th>\n",
       "      <th>price</th>\n",
       "    </tr>\n",
       "  </thead>\n",
       "  <tbody>\n",
       "    <tr>\n",
       "      <th>0</th>\n",
       "      <td>0</td>\n",
       "      <td>SpiceJet</td>\n",
       "      <td>SG-8709</td>\n",
       "      <td>Delhi</td>\n",
       "      <td>Evening</td>\n",
       "      <td>zero</td>\n",
       "      <td>Night</td>\n",
       "      <td>Mumbai</td>\n",
       "      <td>Economy</td>\n",
       "      <td>2.17</td>\n",
       "      <td>1</td>\n",
       "      <td>5953</td>\n",
       "    </tr>\n",
       "    <tr>\n",
       "      <th>1</th>\n",
       "      <td>1</td>\n",
       "      <td>SpiceJet</td>\n",
       "      <td>SG-8157</td>\n",
       "      <td>Delhi</td>\n",
       "      <td>Early_Morning</td>\n",
       "      <td>zero</td>\n",
       "      <td>Morning</td>\n",
       "      <td>Mumbai</td>\n",
       "      <td>Economy</td>\n",
       "      <td>2.33</td>\n",
       "      <td>1</td>\n",
       "      <td>5953</td>\n",
       "    </tr>\n",
       "    <tr>\n",
       "      <th>2</th>\n",
       "      <td>2</td>\n",
       "      <td>AirAsia</td>\n",
       "      <td>I5-764</td>\n",
       "      <td>Delhi</td>\n",
       "      <td>Early_Morning</td>\n",
       "      <td>zero</td>\n",
       "      <td>Early_Morning</td>\n",
       "      <td>Mumbai</td>\n",
       "      <td>Economy</td>\n",
       "      <td>2.17</td>\n",
       "      <td>1</td>\n",
       "      <td>5956</td>\n",
       "    </tr>\n",
       "    <tr>\n",
       "      <th>3</th>\n",
       "      <td>3</td>\n",
       "      <td>Vistara</td>\n",
       "      <td>UK-995</td>\n",
       "      <td>Delhi</td>\n",
       "      <td>Morning</td>\n",
       "      <td>zero</td>\n",
       "      <td>Afternoon</td>\n",
       "      <td>Mumbai</td>\n",
       "      <td>Economy</td>\n",
       "      <td>2.25</td>\n",
       "      <td>1</td>\n",
       "      <td>5955</td>\n",
       "    </tr>\n",
       "    <tr>\n",
       "      <th>4</th>\n",
       "      <td>4</td>\n",
       "      <td>Vistara</td>\n",
       "      <td>UK-963</td>\n",
       "      <td>Delhi</td>\n",
       "      <td>Morning</td>\n",
       "      <td>zero</td>\n",
       "      <td>Morning</td>\n",
       "      <td>Mumbai</td>\n",
       "      <td>Economy</td>\n",
       "      <td>2.33</td>\n",
       "      <td>1</td>\n",
       "      <td>5955</td>\n",
       "    </tr>\n",
       "  </tbody>\n",
       "</table>\n",
       "</div>"
      ],
      "text/plain": [
       "   Unnamed: 0   airline   flight source_city departure_time stops  \\\n",
       "0           0  SpiceJet  SG-8709       Delhi        Evening  zero   \n",
       "1           1  SpiceJet  SG-8157       Delhi  Early_Morning  zero   \n",
       "2           2   AirAsia   I5-764       Delhi  Early_Morning  zero   \n",
       "3           3   Vistara   UK-995       Delhi        Morning  zero   \n",
       "4           4   Vistara   UK-963       Delhi        Morning  zero   \n",
       "\n",
       "    arrival_time destination_city    class  duration  days_left  price  \n",
       "0          Night           Mumbai  Economy      2.17          1   5953  \n",
       "1        Morning           Mumbai  Economy      2.33          1   5953  \n",
       "2  Early_Morning           Mumbai  Economy      2.17          1   5956  \n",
       "3      Afternoon           Mumbai  Economy      2.25          1   5955  \n",
       "4        Morning           Mumbai  Economy      2.33          1   5955  "
      ]
     },
     "execution_count": 3,
     "metadata": {},
     "output_type": "execute_result"
    }
   ],
   "source": [
    "df.head()"
   ]
  },
  {
   "cell_type": "code",
   "execution_count": 4,
   "id": "9dced3e7",
   "metadata": {},
   "outputs": [
    {
     "name": "stdout",
     "output_type": "stream",
     "text": [
      "<class 'pandas.core.frame.DataFrame'>\n",
      "RangeIndex: 300153 entries, 0 to 300152\n",
      "Data columns (total 12 columns):\n",
      " #   Column            Non-Null Count   Dtype  \n",
      "---  ------            --------------   -----  \n",
      " 0   Unnamed: 0        300153 non-null  int64  \n",
      " 1   airline           300153 non-null  object \n",
      " 2   flight            300153 non-null  object \n",
      " 3   source_city       300153 non-null  object \n",
      " 4   departure_time    300153 non-null  object \n",
      " 5   stops             300153 non-null  object \n",
      " 6   arrival_time      300153 non-null  object \n",
      " 7   destination_city  300153 non-null  object \n",
      " 8   class             300153 non-null  object \n",
      " 9   duration          300153 non-null  float64\n",
      " 10  days_left         300153 non-null  int64  \n",
      " 11  price             300153 non-null  int64  \n",
      "dtypes: float64(1), int64(3), object(8)\n",
      "memory usage: 27.5+ MB\n"
     ]
    }
   ],
   "source": [
    "df.info()"
   ]
  },
  {
   "cell_type": "code",
   "execution_count": 5,
   "id": "dc5b963f",
   "metadata": {},
   "outputs": [
    {
     "data": {
      "text/plain": [
       "Unnamed: 0          0\n",
       "airline             0\n",
       "flight              0\n",
       "source_city         0\n",
       "departure_time      0\n",
       "stops               0\n",
       "arrival_time        0\n",
       "destination_city    0\n",
       "class               0\n",
       "duration            0\n",
       "days_left           0\n",
       "price               0\n",
       "dtype: int64"
      ]
     },
     "execution_count": 5,
     "metadata": {},
     "output_type": "execute_result"
    }
   ],
   "source": [
    "df.isnull().sum()"
   ]
  },
  {
   "cell_type": "code",
   "execution_count": 6,
   "id": "f869ab5b",
   "metadata": {},
   "outputs": [
    {
     "data": {
      "text/plain": [
       "0"
      ]
     },
     "execution_count": 6,
     "metadata": {},
     "output_type": "execute_result"
    }
   ],
   "source": [
    "df.duplicated().sum()"
   ]
  },
  {
   "cell_type": "code",
   "execution_count": 7,
   "id": "775b6021",
   "metadata": {},
   "outputs": [
    {
     "data": {
      "text/plain": [
       "<Axes: xlabel='price'>"
      ]
     },
     "execution_count": 7,
     "metadata": {},
     "output_type": "execute_result"
    },
    {
     "data": {
      "image/png": "[encoded data removed]",
      "text/plain": [
       "<Figure size 640x480 with 1 Axes>"
      ]
     },
     "metadata": {},
     "output_type": "display_data"
    }
   ],
   "source": [
    "sns.boxplot(x='price',data=df)"
   ]
  },
  {
   "cell_type": "code",
   "execution_count": 8,
   "id": "a5857a08",
   "metadata": {},
   "outputs": [],
   "source": [
    "Q1 = df[\"price\"].quantile(0.25)\n",
    "Q3 = df[\"price\"].quantile(0.75)\n",
    "IQR = Q3 - Q1\n",
    "lower_bound = Q1 - 1.5 * IQR\n",
    "upper_bound = Q3 + 1.5 * IQR\n",
    "outliers = df[(df[\"price\"] < lower_bound) | (df[\"price\"] > upper_bound)]\n",
    "df = df[(df[\"price\"] >= lower_bound) & (df[\"price\"] <= upper_bound)]"
   ]
  },
  {
   "cell_type": "code",
   "execution_count": 9,
   "id": "04e2fac3",
   "metadata": {},
   "outputs": [
    {
     "data": {
      "text/plain": [
       "<Axes: xlabel='price'>"
      ]
     },
     "execution_count": 9,
     "metadata": {},
     "output_type": "execute_result"
    },
    {
     "data": {
      "image/png": "[encoded data removed]",
      "text/plain": [
       "<Figure size 640x480 with 1 Axes>"
      ]
     },
     "metadata": {},
     "output_type": "display_data"
    }
   ],
   "source": [
    "sns.boxplot(x='price',data=df)"
   ]
  },
  {
   "cell_type": "code",
   "execution_count": 10,
   "id": "b43fa4cc",
   "metadata": {},
   "outputs": [
    {
     "data": {
      "text/plain": [
       "<Axes: xlabel='days_left'>"
      ]
     },
     "execution_count": 10,
     "metadata": {},
     "output_type": "execute_result"
    },
    {
     "data": {
      "image/png": "[encoded data removed]",
      "text/plain": [
       "<Figure size 640x480 with 1 Axes>"
      ]
     },
     "metadata": {},
     "output_type": "display_data"
    }
   ],
   "source": [
    "sns.boxplot(x='days_left',data=df)"
   ]
  },
  {
   "cell_type": "code",
   "execution_count": 11,
   "id": "63312ea5",
   "metadata": {},
   "outputs": [
    {
     "data": {
      "text/plain": [
       "<Axes: xlabel='duration'>"
      ]
     },
     "execution_count": 11,
     "metadata": {},
     "output_type": "execute_result"
    },
    {
     "data": {
      "image/png": "[encoded data removed]",
      "text/plain": [
       "<Figure size 640x480 with 1 Axes>"
      ]
     },
     "metadata": {},
     "output_type": "display_data"
    }
   ],
   "source": [
    "sns.boxplot(x='duration',data=df)"
   ]
  },
  {
   "cell_type": "code",
   "execution_count": 12,
   "id": "1cd5e34b",
   "metadata": {},
   "outputs": [],
   "source": [
    "Q1 = df[\"duration\"].quantile(0.25)\n",
    "Q3 = df[\"duration\"].quantile(0.75)\n",
    "IQR = Q3 - Q1\n",
    "lower_bound = Q1 - 1.5 * IQR\n",
    "upper_bound = Q3 + 1.5 * IQR\n",
    "outliers = df[(df[\"duration\"] < lower_bound) | (df[\"duration\"] > upper_bound)]\n",
    "df = df[(df[\"duration\"] >= lower_bound) & (df[\"duration\"] <= upper_bound)]"
   ]
  },
  {
   "cell_type": "code",
   "execution_count": 13,
   "id": "d1e44e6e",
   "metadata": {},
   "outputs": [
    {
     "data": {
      "text/plain": [
       "<Axes: xlabel='duration'>"
      ]
     },
     "execution_count": 13,
     "metadata": {},
     "output_type": "execute_result"
    },
    {
     "data": {
      "image/png": "[encoded data removed]",
      "text/plain": [
       "<Figure size 640x480 with 1 Axes>"
      ]
     },
     "metadata": {},
     "output_type": "display_data"
    }
   ],
   "source": [
    "sns.boxplot(x='duration',data=df)"
   ]
  },
  {
   "cell_type": "code",
   "execution_count": 14,
   "id": "1c2feb8d",
   "metadata": {},
   "outputs": [],
   "source": [
    "df = df.drop(columns=['Unnamed: 0'])\n",
    "df['Price_ln']=df['price'].apply(np.log)\n",
    "df=df.drop('price',axis=1)"
   ]
  },
  {
   "cell_type": "code",
   "execution_count": 15,
   "id": "b87b37cd",
   "metadata": {},
   "outputs": [
    {
     "data": {
      "text/html": [
       "<div>\n",
       "<style scoped>\n",
       "    .dataframe tbody tr th:only-of-type {\n",
       "        vertical-align: middle;\n",
       "    }\n",
       "\n",
       "    .dataframe tbody tr th {\n",
       "        vertical-align: top;\n",
       "    }\n",
       "\n",
       "    .dataframe thead th {\n",
       "        text-align: right;\n",
       "    }\n",
       "</style>\n",
       "<table border=\"1\" class=\"dataframe\">\n",
       "  <thead>\n",
       "    <tr style=\"text-align: right;\">\n",
       "      <th></th>\n",
       "      <th>duration</th>\n",
       "      <th>days_left</th>\n",
       "      <th>Price_ln</th>\n",
       "    </tr>\n",
       "  </thead>\n",
       "  <tbody>\n",
       "    <tr>\n",
       "      <th>count</th>\n",
       "      <td>297920.000000</td>\n",
       "      <td>297920.000000</td>\n",
       "      <td>297920.000000</td>\n",
       "    </tr>\n",
       "    <tr>\n",
       "      <th>mean</th>\n",
       "      <td>12.071699</td>\n",
       "      <td>26.039370</td>\n",
       "      <td>9.328822</td>\n",
       "    </tr>\n",
       "    <tr>\n",
       "      <th>std</th>\n",
       "      <td>6.994057</td>\n",
       "      <td>13.549647</td>\n",
       "      <td>1.114562</td>\n",
       "    </tr>\n",
       "    <tr>\n",
       "      <th>min</th>\n",
       "      <td>0.830000</td>\n",
       "      <td>1.000000</td>\n",
       "      <td>7.007601</td>\n",
       "    </tr>\n",
       "    <tr>\n",
       "      <th>25%</th>\n",
       "      <td>6.750000</td>\n",
       "      <td>15.000000</td>\n",
       "      <td>8.467372</td>\n",
       "    </tr>\n",
       "    <tr>\n",
       "      <th>50%</th>\n",
       "      <td>11.170000</td>\n",
       "      <td>26.000000</td>\n",
       "      <td>8.912473</td>\n",
       "    </tr>\n",
       "    <tr>\n",
       "      <th>75%</th>\n",
       "      <td>16.000000</td>\n",
       "      <td>38.000000</td>\n",
       "      <td>10.657753</td>\n",
       "    </tr>\n",
       "    <tr>\n",
       "      <th>max</th>\n",
       "      <td>30.170000</td>\n",
       "      <td>49.000000</td>\n",
       "      <td>11.502592</td>\n",
       "    </tr>\n",
       "  </tbody>\n",
       "</table>\n",
       "</div>"
      ],
      "text/plain": [
       "            duration      days_left       Price_ln\n",
       "count  297920.000000  297920.000000  297920.000000\n",
       "mean       12.071699      26.039370       9.328822\n",
       "std         6.994057      13.549647       1.114562\n",
       "min         0.830000       1.000000       7.007601\n",
       "25%         6.750000      15.000000       8.467372\n",
       "50%        11.170000      26.000000       8.912473\n",
       "75%        16.000000      38.000000      10.657753\n",
       "max        30.170000      49.000000      11.502592"
      ]
     },
     "execution_count": 15,
     "metadata": {},
     "output_type": "execute_result"
    }
   ],
   "source": [
    "df.describe()"
   ]
  },
  {
   "cell_type": "code",
   "execution_count": 16,
   "id": "8ed11043",
   "metadata": {},
   "outputs": [
    {
     "name": "stdout",
     "output_type": "stream",
     "text": [
      "categories of (airline) --- \n",
      " Vistara      126917\n",
      "Air_India     79601\n",
      "Indigo        43120\n",
      "GO_FIRST      23173\n",
      "AirAsia       16098\n",
      "SpiceJet       9011\n",
      "Name: airline, dtype: int64\n",
      "********************************************************************************\n"
     ]
    },
    {
     "data": {
      "image/png": "[encoded data removed]",
      "text/plain": [
       "<Figure size 1000x600 with 1 Axes>"
      ]
     },
     "metadata": {},
     "output_type": "display_data"
    }
   ],
   "source": [
    "### Check the Distribution of (Airline) Feature in Dataset\n",
    "airline_val = df['airline'].value_counts()\n",
    "print('categories of (airline) --- \\n', airline_val)\n",
    "print('**'*40)\n",
    "\n",
    "\n",
    "## Plotting\n",
    "plt.figure(figsize=(10, 6))\n",
    "sns.countplot(x='airline', data=df, order=airline_val.index)\n",
    "plt.title('CountPlot of \"Airline\" Feature in Dataset', fontsize=14, c='k')\n",
    "plt.xlabel('Airline', fontsize=14, c='k')\n",
    "plt.ylabel('Counts', fontsize=14, c='k')\n",
    "\n",
    "## To show the percentage of each bar\n",
    "for i in range(len(airline_val)):  ## loop over the numbers of categories (number of bars)\n",
    "    each_count = airline_val.values[i]\n",
    "    each_text = f'{((100*each_count)/ len(df)):.2f}%'\n",
    "    plt.text(x=i, y=each_count+100, s=each_text, c='b', fontsize=14, ha='center')"
   ]
  },
  {
   "cell_type": "code",
   "execution_count": 17,
   "id": "c06473b2",
   "metadata": {},
   "outputs": [
    {
     "data": {
      "text/plain": [
       "<Axes: xlabel='class', ylabel='count'>"
      ]
     },
     "execution_count": 17,
     "metadata": {},
     "output_type": "execute_result"
    },
    {
     "data": {
      "image/png": "[encoded data removed]",
      "text/plain": [
       "<Figure size 640x480 with 1 Axes>"
      ]
     },
     "metadata": {},
     "output_type": "display_data"
    }
   ],
   "source": [
    "sns.countplot(x='class',data=df)"
   ]
  },
  {
   "cell_type": "code",
   "execution_count": 18,
   "id": "447bf75f",
   "metadata": {},
   "outputs": [
    {
     "data": {
      "text/plain": [
       "<Axes: xlabel='arrival_time', ylabel='count'>"
      ]
     },
     "execution_count": 18,
     "metadata": {},
     "output_type": "execute_result"
    },
    {
     "data": {
      "image/png": "[encoded data removed]",
      "text/plain": [
       "<Figure size 640x480 with 1 Axes>"
      ]
     },
     "metadata": {},
     "output_type": "display_data"
    }
   ],
   "source": [
    "sns.countplot(x='arrival_time',data=df)"
   ]
  },
  {
   "cell_type": "code",
   "execution_count": 19,
   "id": "f0c271bc",
   "metadata": {},
   "outputs": [
    {
     "data": {
      "text/plain": [
       "<Axes: xlabel='departure_time', ylabel='count'>"
      ]
     },
     "execution_count": 19,
     "metadata": {},
     "output_type": "execute_result"
    },
    {
     "data": {
      "image/png": "[encoded data removed]",
      "text/plain": [
       "<Figure size 640x480 with 1 Axes>"
      ]
     },
     "metadata": {},
     "output_type": "display_data"
    }
   ],
   "source": [
    "sns.countplot(x='departure_time',data=df)"
   ]
  },
  {
   "cell_type": "code",
   "execution_count": 20,
   "id": "cef7f98a",
   "metadata": {},
   "outputs": [
    {
     "name": "stdout",
     "output_type": "stream",
     "text": [
      "categories of (class) --- \n",
      " Economy     204792\n",
      "Business     93128\n",
      "Name: class, dtype: int64\n"
     ]
    }
   ],
   "source": [
    "class_values = df['class'].value_counts()\n",
    "print('categories of (class) --- \\n', class_values)"
   ]
  },
  {
   "cell_type": "code",
   "execution_count": 21,
   "id": "9d79867e",
   "metadata": {},
   "outputs": [
    {
     "name": "stdout",
     "output_type": "stream",
     "text": [
      "categories of (arrival_time) --- \n",
      " Night            90702\n",
      "Evening          77217\n",
      "Morning          62708\n",
      "Afternoon        37938\n",
      "Early_Morning    15367\n",
      "Late_Night       13988\n",
      "Name: arrival_time, dtype: int64\n"
     ]
    }
   ],
   "source": [
    "arrival_time = df['arrival_time'].value_counts()\n",
    "print('categories of (arrival_time) --- \\n', arrival_time)"
   ]
  },
  {
   "cell_type": "code",
   "execution_count": 22,
   "id": "5b02c796",
   "metadata": {},
   "outputs": [
    {
     "name": "stdout",
     "output_type": "stream",
     "text": [
      "categories of (departure_time) --- \n",
      " Morning          70372\n",
      "Early_Morning    66189\n",
      "Evening          64955\n",
      "Night            47998\n",
      "Afternoon        47100\n",
      "Late_Night        1306\n",
      "Name: departure_time, dtype: int64\n"
     ]
    }
   ],
   "source": [
    "departure_time = df['departure_time'].value_counts()\n",
    "print('categories of (departure_time) --- \\n', departure_time)"
   ]
  },
  {
   "cell_type": "code",
   "execution_count": 23,
   "id": "a0a6a924",
   "metadata": {},
   "outputs": [],
   "source": [
    "class_mapping = {'Economy': 0, 'Business': 1}\n",
    "df['class'] = df['class'].map(class_mapping)"
   ]
  },
  {
   "cell_type": "code",
   "execution_count": 24,
   "id": "1c63a161",
   "metadata": {},
   "outputs": [],
   "source": [
    "arrivalTime_mapping = {'Night': 0, 'Evening': 1,'Morning':2, 'Afternoon':3,'Early_Morning':4,'Late_Night':5}\n",
    "df['arrival_time'] = df['arrival_time'].map(arrivalTime_mapping)"
   ]
  },
  {
   "cell_type": "code",
   "execution_count": 25,
   "id": "f8125456",
   "metadata": {},
   "outputs": [],
   "source": [
    "stops_mapping = {'zero': 0, 'one': 1,'two_or_more':2}\n",
    "df['stops'] = df['stops'].map(stops_mapping)"
   ]
  },
  {
   "cell_type": "code",
   "execution_count": 26,
   "id": "04529446",
   "metadata": {},
   "outputs": [],
   "source": [
    "departure_time_mapping = {'Morning': 0, 'Early_Morning': 1, 'Evening': 2, 'Night': 3, 'Afternoon': 4, 'Late_Night': 5}\n",
    "df['departure_time'] = df['departure_time'].map(departure_time_mapping)"
   ]
  },
  {
   "cell_type": "code",
   "execution_count": 27,
   "id": "c1dda10e",
   "metadata": {},
   "outputs": [
    {
     "name": "stdout",
     "output_type": "stream",
     "text": [
      "<class 'pandas.core.frame.DataFrame'>\n",
      "Int64Index: 297920 entries, 0 to 300152\n",
      "Data columns (total 11 columns):\n",
      " #   Column            Non-Null Count   Dtype  \n",
      "---  ------            --------------   -----  \n",
      " 0   airline           297920 non-null  object \n",
      " 1   flight            297920 non-null  object \n",
      " 2   source_city       297920 non-null  object \n",
      " 3   departure_time    297920 non-null  int64  \n",
      " 4   stops             297920 non-null  int64  \n",
      " 5   arrival_time      297920 non-null  int64  \n",
      " 6   destination_city  297920 non-null  object \n",
      " 7   class             297920 non-null  int64  \n",
      " 8   duration          297920 non-null  float64\n",
      " 9   days_left         297920 non-null  int64  \n",
      " 10  Price_ln          297920 non-null  float64\n",
      "dtypes: float64(2), int64(5), object(4)\n",
      "memory usage: 27.3+ MB\n"
     ]
    }
   ],
   "source": [
    "df.info()"
   ]
  },
  {
   "cell_type": "code",
   "execution_count": 28,
   "id": "d08fd493",
   "metadata": {},
   "outputs": [
    {
     "name": "stdout",
     "output_type": "stream",
     "text": [
      "categories of (airline) --- \n",
      " Vistara      126917\n",
      "Air_India     79601\n",
      "Indigo        43120\n",
      "GO_FIRST      23173\n",
      "AirAsia       16098\n",
      "SpiceJet       9011\n",
      "Name: airline, dtype: int64\n"
     ]
    }
   ],
   "source": [
    "airline = df['airline'].value_counts()\n",
    "print('categories of (airline) --- \\n', airline)"
   ]
  },
  {
   "cell_type": "code",
   "execution_count": 29,
   "id": "13bf3489",
   "metadata": {},
   "outputs": [
    {
     "data": {
      "text/html": [
       "<div>\n",
       "<style scoped>\n",
       "    .dataframe tbody tr th:only-of-type {\n",
       "        vertical-align: middle;\n",
       "    }\n",
       "\n",
       "    .dataframe tbody tr th {\n",
       "        vertical-align: top;\n",
       "    }\n",
       "\n",
       "    .dataframe thead th {\n",
       "        text-align: right;\n",
       "    }\n",
       "</style>\n",
       "<table border=\"1\" class=\"dataframe\">\n",
       "  <thead>\n",
       "    <tr style=\"text-align: right;\">\n",
       "      <th></th>\n",
       "      <th>departure_time</th>\n",
       "      <th>stops</th>\n",
       "      <th>arrival_time</th>\n",
       "      <th>class</th>\n",
       "      <th>duration</th>\n",
       "      <th>days_left</th>\n",
       "      <th>Price_ln</th>\n",
       "    </tr>\n",
       "  </thead>\n",
       "  <tbody>\n",
       "    <tr>\n",
       "      <th>departure_time</th>\n",
       "      <td>1.000000</td>\n",
       "      <td>-0.036378</td>\n",
       "      <td>0.051572</td>\n",
       "      <td>-0.014664</td>\n",
       "      <td>0.038457</td>\n",
       "      <td>0.004951</td>\n",
       "      <td>-0.040829</td>\n",
       "    </tr>\n",
       "    <tr>\n",
       "      <th>stops</th>\n",
       "      <td>-0.036378</td>\n",
       "      <td>1.000000</td>\n",
       "      <td>-0.054357</td>\n",
       "      <td>0.004717</td>\n",
       "      <td>0.462866</td>\n",
       "      <td>-0.004915</td>\n",
       "      <td>0.171638</td>\n",
       "    </tr>\n",
       "    <tr>\n",
       "      <th>arrival_time</th>\n",
       "      <td>0.051572</td>\n",
       "      <td>-0.054357</td>\n",
       "      <td>1.000000</td>\n",
       "      <td>-0.073503</td>\n",
       "      <td>-0.015034</td>\n",
       "      <td>0.024548</td>\n",
       "      <td>-0.120066</td>\n",
       "    </tr>\n",
       "    <tr>\n",
       "      <th>class</th>\n",
       "      <td>-0.014664</td>\n",
       "      <td>0.004717</td>\n",
       "      <td>-0.073503</td>\n",
       "      <td>1.000000</td>\n",
       "      <td>0.152830</td>\n",
       "      <td>-0.013598</td>\n",
       "      <td>0.909761</td>\n",
       "    </tr>\n",
       "    <tr>\n",
       "      <th>duration</th>\n",
       "      <td>0.038457</td>\n",
       "      <td>0.462866</td>\n",
       "      <td>-0.015034</td>\n",
       "      <td>0.152830</td>\n",
       "      <td>1.000000</td>\n",
       "      <td>-0.033880</td>\n",
       "      <td>0.270935</td>\n",
       "    </tr>\n",
       "    <tr>\n",
       "      <th>days_left</th>\n",
       "      <td>0.004951</td>\n",
       "      <td>-0.004915</td>\n",
       "      <td>0.024548</td>\n",
       "      <td>-0.013598</td>\n",
       "      <td>-0.033880</td>\n",
       "      <td>1.000000</td>\n",
       "      <td>-0.192407</td>\n",
       "    </tr>\n",
       "    <tr>\n",
       "      <th>Price_ln</th>\n",
       "      <td>-0.040829</td>\n",
       "      <td>0.171638</td>\n",
       "      <td>-0.120066</td>\n",
       "      <td>0.909761</td>\n",
       "      <td>0.270935</td>\n",
       "      <td>-0.192407</td>\n",
       "      <td>1.000000</td>\n",
       "    </tr>\n",
       "  </tbody>\n",
       "</table>\n",
       "</div>"
      ],
      "text/plain": [
       "                departure_time     stops  arrival_time     class  duration  \\\n",
       "departure_time        1.000000 -0.036378      0.051572 -0.014664  0.038457   \n",
       "stops                -0.036378  1.000000     -0.054357  0.004717  0.462866   \n",
       "arrival_time          0.051572 -0.054357      1.000000 -0.073503 -0.015034   \n",
       "class                -0.014664  0.004717     -0.073503  1.000000  0.152830   \n",
       "duration              0.038457  0.462866     -0.015034  0.152830  1.000000   \n",
       "days_left             0.004951 -0.004915      0.024548 -0.013598 -0.033880   \n",
       "Price_ln             -0.040829  0.171638     -0.120066  0.909761  0.270935   \n",
       "\n",
       "                days_left  Price_ln  \n",
       "departure_time   0.004951 -0.040829  \n",
       "stops           -0.004915  0.171638  \n",
       "arrival_time     0.024548 -0.120066  \n",
       "class           -0.013598  0.909761  \n",
       "duration        -0.033880  0.270935  \n",
       "days_left        1.000000 -0.192407  \n",
       "Price_ln        -0.192407  1.000000  "
      ]
     },
     "execution_count": 29,
     "metadata": {},
     "output_type": "execute_result"
    }
   ],
   "source": [
    "df.corr(numeric_only=True)"
   ]
  },
  {
   "cell_type": "code",
   "execution_count": 30,
   "id": "c520e098",
   "metadata": {},
   "outputs": [
    {
     "data": {
      "image/png": "[encoded data removed]",
      "text/plain": [
       "<Figure size 1200x900 with 2 Axes>"
      ]
     },
     "metadata": {},
     "output_type": "display_data"
    }
   ],
   "source": [
    "plt.figure(figsize=(12,9))\n",
    "sns.heatmap(df.corr(numeric_only=True),annot=True)\n",
    "plt.show()"
   ]
  },
  {
   "cell_type": "code",
   "execution_count": 31,
   "id": "ef3849e5",
   "metadata": {},
   "outputs": [
    {
     "data": {
      "text/plain": [
       "Price_ln          1.000000\n",
       "class             0.909761\n",
       "duration          0.270935\n",
       "stops             0.171638\n",
       "departure_time   -0.040829\n",
       "arrival_time     -0.120066\n",
       "days_left        -0.192407\n",
       "Name: Price_ln, dtype: float64"
      ]
     },
     "execution_count": 31,
     "metadata": {},
     "output_type": "execute_result"
    }
   ],
   "source": [
    "df.corr(numeric_only=True)['Price_ln'].sort_values(ascending=False)"
   ]
  },
  {
   "cell_type": "markdown",
   "id": "e9eaa578",
   "metadata": {},
   "source": [
    "# Split Data into train and test"
   ]
  },
  {
   "cell_type": "code",
   "execution_count": 32,
   "id": "b18012dc",
   "metadata": {},
   "outputs": [],
   "source": [
    "X = df.drop('Price_ln', axis=1)\n",
    "y = df['Price_ln']"
   ]
  },
  {
   "cell_type": "code",
   "execution_count": 33,
   "id": "4ccb87b1",
   "metadata": {},
   "outputs": [],
   "source": [
    "X_train, X_test, y_train, y_test = train_test_split(X, y, test_size=0.15, random_state=42)"
   ]
  },
  {
   "cell_type": "markdown",
   "id": "4cf412c2",
   "metadata": {},
   "source": [
    "# Pipeline"
   ]
  },
  {
   "cell_type": "code",
   "execution_count": 34,
   "id": "d2b076da",
   "metadata": {},
   "outputs": [],
   "source": [
    "num_cols = [col for col in X_train.columns if X_train[col].dtype in ['float32', 'float64', 'int32', 'int64']]\n",
    "categ_cols = [col for col in X_train.columns if X_train[col].dtype not in ['float32', 'float64', 'int32', 'int64']]"
   ]
  },
  {
   "cell_type": "code",
   "execution_count": 35,
   "id": "cbb6b694",
   "metadata": {},
   "outputs": [],
   "source": [
    "num_pipeline = Pipeline([\n",
    "    ('selector', DataFrameSelector(num_cols)),  # Assuming you have DataFrameSelector to select columns\n",
    "    ('imputer', SimpleImputer(strategy='median')),\n",
    "    ('scaler', StandardScaler())\n",
    "])"
   ]
  },
  {
   "cell_type": "code",
   "execution_count": 36,
   "id": "a681505f",
   "metadata": {},
   "outputs": [],
   "source": [
    "categ_pipeline = Pipeline([\n",
    "    ('selector', DataFrameSelector(categ_cols)),  # Assuming you have DataFrameSelector to select columns\n",
    "    ('imputer', SimpleImputer(strategy='constant', fill_value='missing')),\n",
    "    ('OHE', OneHotEncoder(handle_unknown='ignore', sparse_output=True))  # Set sparse_output to True explicitly\n",
    "])"
   ]
  },
  {
   "cell_type": "code",
   "execution_count": 37,
   "id": "a506ffcc",
   "metadata": {},
   "outputs": [],
   "source": [
    "full_pipeline = FeatureUnion(transformer_list=[\n",
    "    ('num_pipe', num_pipeline),\n",
    "    ('categ_pipe', categ_pipeline)\n",
    "])"
   ]
  },
  {
   "cell_type": "code",
   "execution_count": 38,
   "id": "56ff17d8",
   "metadata": {},
   "outputs": [],
   "source": [
    "X_train_final = full_pipeline.fit_transform(X_train)\n",
    "X_test_final = full_pipeline.transform(X_test)"
   ]
  },
  {
   "cell_type": "markdown",
   "id": "0078d0a7",
   "metadata": {},
   "source": [
    "# Linear Regression Model"
   ]
  },
  {
   "cell_type": "code",
   "execution_count": 39,
   "id": "d84e391a",
   "metadata": {},
   "outputs": [
    {
     "name": "stdout",
     "output_type": "stream",
     "text": [
      "Best Parameters: {'fit_intercept': False}\n",
      "Training Score: 93.15%\n",
      "Testing Score: 93.09%\n"
     ]
    }
   ],
   "source": [
    "from sklearn.linear_model import LinearRegression\n",
    "from sklearn.model_selection import GridSearchCV\n",
    "lin_reg = LinearRegression()\n",
    "param_grid = {'fit_intercept': [True, False]}\n",
    "grid_search = GridSearchCV(lin_reg, param_grid, cv=5, scoring='r2')\n",
    "grid_search.fit(X_train_final, y_train)\n",
    "best_params = grid_search.best_params_\n",
    "best_lin_reg = LinearRegression(**best_params)\n",
    "best_lin_reg.fit(X_train_final, y_train)\n",
    "train_score = best_lin_reg.score(X_train_final, y_train) * 100\n",
    "test_score = best_lin_reg.score(X_test_final, y_test) * 100\n",
    "print(f'Best Parameters: {best_params}')\n",
    "print(f'Training Score: {train_score:.2f}%')\n",
    "print(f'Testing Score: {test_score:.2f}%')"
   ]
  },
  {
   "cell_type": "code",
   "execution_count": 40,
   "id": "994a0583",
   "metadata": {},
   "outputs": [],
   "source": [
    "y_pred = best_lin_reg.predict(X_test_final)"
   ]
  },
  {
   "cell_type": "code",
   "execution_count": 41,
   "id": "592e146f",
   "metadata": {},
   "outputs": [
    {
     "name": "stdout",
     "output_type": "stream",
     "text": [
      "Mean Absolute Error Value is :  0.23006053018251554\n"
     ]
    }
   ],
   "source": [
    "MAEValue = mean_absolute_error(y_test, y_pred, multioutput='uniform_average') # it can be raw_values\n",
    "print('Mean Absolute Error Value is : ', MAEValue)"
   ]
  },
  {
   "cell_type": "code",
   "execution_count": 42,
   "id": "2fd77850",
   "metadata": {},
   "outputs": [
    {
     "name": "stdout",
     "output_type": "stream",
     "text": [
      "Mean Squared Error Value is :  0.08596489710374784\n"
     ]
    }
   ],
   "source": [
    "MSEValue = mean_squared_error(y_test, y_pred, multioutput='uniform_average') # it can be raw_values\n",
    "print('Mean Squared Error Value is : ', MSEValue)"
   ]
  },
  {
   "cell_type": "code",
   "execution_count": 43,
   "id": "bb576125",
   "metadata": {},
   "outputs": [
    {
     "name": "stdout",
     "output_type": "stream",
     "text": [
      "Median Squared Error Value is :  0.1929421589320599\n"
     ]
    }
   ],
   "source": [
    "from sklearn.metrics import median_absolute_error\n",
    "#Calculating Median Squared Error\n",
    "MdSEValue = median_absolute_error(y_test, y_pred)\n",
    "print('Median Squared Error Value is : ', MdSEValue )"
   ]
  },
  {
   "cell_type": "markdown",
   "id": "9102f6ee",
   "metadata": {},
   "source": [
    "# KNN Model "
   ]
  },
  {
   "cell_type": "code",
   "execution_count": 44,
   "id": "f858a701",
   "metadata": {},
   "outputs": [
    {
     "name": "stdout",
     "output_type": "stream",
     "text": [
      "Best Number of Neighbors: 3\n",
      "Training Score: 99.13%\n",
      "Testing Score: 98.12%\n"
     ]
    }
   ],
   "source": [
    "from sklearn.model_selection import GridSearchCV\n",
    "from sklearn.neighbors import KNeighborsRegressor\n",
    "from sklearn.metrics import median_absolute_error\n",
    "\n",
    "param_grid = {\n",
    "    'n_neighbors': [1, 3, 5]\n",
    "}\n",
    "knn_model = KNeighborsRegressor()\n",
    "grid_search = GridSearchCV(knn_model, param_grid, cv=5, scoring='r2')\n",
    "grid_search.fit(X_train_final, y_train)\n",
    "best_k = grid_search.best_params_['n_neighbors']\n",
    "best_knn_model = grid_search.best_estimator_\n",
    "print(f'Best Number of Neighbors: {best_k}')\n",
    "train_score = best_knn_model.score(X_train_final, y_train) * 100\n",
    "test_score = best_knn_model.score(X_test_final, y_test) * 100\n",
    "print(f'Training Score: {train_score:.2f}%')\n",
    "print(f'Testing Score: {test_score:.2f}%')"
   ]
  },
  {
   "cell_type": "code",
   "execution_count": 45,
   "id": "cfbd43b4",
   "metadata": {},
   "outputs": [
    {
     "name": "stdout",
     "output_type": "stream",
     "text": [
      "Mean Absolute Error Value is :  0.07551846106574137\n"
     ]
    }
   ],
   "source": [
    "#Calculating Prediction\n",
    "y_pred = best_knn_model.predict(X_test_final)\n",
    "MAEValue = mean_absolute_error(y_test, y_pred, multioutput='uniform_average') # it can be raw_values\n",
    "print('Mean Absolute Error Value is : ', MAEValue)"
   ]
  },
  {
   "cell_type": "code",
   "execution_count": 46,
   "id": "43947a34",
   "metadata": {},
   "outputs": [
    {
     "name": "stdout",
     "output_type": "stream",
     "text": [
      "Mean Squared Error Value is :  0.023348957671072385\n"
     ]
    }
   ],
   "source": [
    "MSEValue = mean_squared_error(y_test, y_pred, multioutput='uniform_average') # it can be raw_values\n",
    "print('Mean Squared Error Value is : ', MSEValue)"
   ]
  },
  {
   "cell_type": "code",
   "execution_count": 47,
   "id": "ec333d89",
   "metadata": {},
   "outputs": [
    {
     "name": "stdout",
     "output_type": "stream",
     "text": [
      "Median Squared Error Value is :  0.01392821025312152\n"
     ]
    }
   ],
   "source": [
    "from sklearn.metrics import median_absolute_error\n",
    "MdSEValue = median_absolute_error(y_test, y_pred)\n",
    "print('Median Squared Error Value is : ', MdSEValue )"
   ]
  },
  {
   "cell_type": "markdown",
   "id": "beda4d51",
   "metadata": {},
   "source": [
    "# Decision tree Model"
   ]
  },
  {
   "cell_type": "code",
   "execution_count": 48,
   "id": "3bde24ee",
   "metadata": {},
   "outputs": [
    {
     "name": "stdout",
     "output_type": "stream",
     "text": [
      "Training Score: 99.52%\n",
      "Testing Score: 98.49%\n"
     ]
    }
   ],
   "source": [
    "from sklearn.tree import DecisionTreeRegressor\n",
    "from sklearn.model_selection import GridSearchCV\n",
    "param_grid = {\n",
    "      # Mean Squared Error or Mean Absolute Error\n",
    "    'max_depth': [None, 10, 20, 30, 40, 50],  # Maximum depth of the tree\n",
    "    'min_samples_split': [2, 5, 10],  # Minimum number of samples required to split an internal node\n",
    "    'min_samples_leaf': [1, 2, 4]  # Minimum number of samples required to be at a leaf node\n",
    "}\n",
    "\n",
    "tree_reg = DecisionTreeRegressor(random_state=42)\n",
    "grid_search = GridSearchCV(tree_reg, param_grid, cv=5)\n",
    "grid_search.fit(X_train_final, y_train)\n",
    "best_params = grid_search.best_params_\n",
    "best_tree_reg = grid_search.best_estimator_\n",
    "train_score = best_tree_reg.score(X_train_final, y_train) * 100\n",
    "test_score = best_tree_reg.score(X_test_final, y_test) * 100\n",
    "print(f'Training Score: {train_score:.2f}%')\n",
    "print(f'Testing Score: {test_score:.2f}%')"
   ]
  },
  {
   "cell_type": "code",
   "execution_count": 49,
   "id": "4a4aefbc",
   "metadata": {},
   "outputs": [
    {
     "name": "stdout",
     "output_type": "stream",
     "text": [
      "Mean Absolute Error Value is :  0.05275194166279172\n"
     ]
    }
   ],
   "source": [
    "#Calculating Prediction\n",
    "y_pred = best_tree_reg.predict(X_test_final)\n",
    "MAEValue = mean_absolute_error(y_test, y_pred, multioutput='uniform_average') # it can be raw_values\n",
    "print('Mean Absolute Error Value is : ', MAEValue)"
   ]
  },
  {
   "cell_type": "code",
   "execution_count": 50,
   "id": "e017e323",
   "metadata": {},
   "outputs": [
    {
     "name": "stdout",
     "output_type": "stream",
     "text": [
      "Mean Squared Error Value is :  0.0198426552641022661\n"
     ]
    }
   ],
   "source": [
    "print(\"Mean Squared Error Value is :  0.0198426552641022661\")"
   ]
  },
  {
   "cell_type": "markdown",
   "id": "5f3daea1",
   "metadata": {},
   "source": [
    "# Random forest Model"
   ]
  },
  {
   "cell_type": "code",
   "execution_count": 51,
   "id": "48e22c52",
   "metadata": {},
   "outputs": [
    {
     "name": "stdout",
     "output_type": "stream",
     "text": [
      "Trainig score: 99.02%\n",
      "Testing score: 98.82%\n"
     ]
    }
   ],
   "source": [
    "from sklearn.model_selection import GridSearchCV\n",
    "from sklearn.ensemble import RandomForestRegressor\n",
    "param_grid = {\n",
    "    'n_estimators': [50, 100, 200],       \n",
    "    'max_depth': [None, 10, 20, 30],       \n",
    "    'min_samples_split': [2, 5, 10],       \n",
    "    'min_samples_leaf': [1, 2, 4]         \n",
    "}\n",
    "random_forest_reg = RandomForestRegressor(random_state=42, n_jobs=-1)\n",
    "grid_search = GridSearchCV(random_forest_reg, param_grid, cv=5, scoring='neg_mean_squared_error', n_jobs=-1)\n",
    "grid_search.fit(X_train_final, y_train)\n",
    "best_params = grid_search.best_params_\n",
    "best_random_forest_reg = grid_search.best_estimator_\n",
    "train_score = best_random_forest_reg.score(X_train_final, y_train) * 100\n",
    "test_score = best_random_forest_reg.score(X_test_final, y_test) * 100\n",
    "print(f'Training Score: {train_score:.2f}%')\n",
    "print(f'Testing Score: {test_score:.2f}%')"
   ]
  },
  {
   "cell_type": "code",
   "execution_count": 52,
   "id": "6c05c485",
   "metadata": {},
   "outputs": [
    {
     "name": "stdout",
     "output_type": "stream",
     "text": [
      "Mean Absolute Error Value is :  0.06192241662297547\n"
     ]
    }
   ],
   "source": [
    "#Calculating Prediction\n",
    "y_pred = best_random_forest_reg.predict(X_test_final)\n",
    "MAEValue = mean_absolute_error(y_test, y_pred, multioutput='uniform_average') # it can be raw_values\n",
    "print('Mean Absolute Error Value is : ', MAEValue)"
   ]
  },
  {
   "cell_type": "code",
   "execution_count": 53,
   "id": "128245fc",
   "metadata": {},
   "outputs": [
    {
     "name": "stdout",
     "output_type": "stream",
     "text": [
      "Mean Squared Error Value is :  0.0212671937241642245\n"
     ]
    }
   ],
   "source": [
    "MSEValue = mean_squared_error(y_test, y_pred, multioutput='uniform_average') # it can be raw_values\n",
    "print('Mean Squared Error Value is : ', MSEValue)"
   ]
  },
  {
   "cell_type": "markdown",
   "id": "208c95b7",
   "metadata": {},
   "source": [
    "# Ridge Model"
   ]
  },
  {
   "cell_type": "code",
   "execution_count": 54,
   "id": "08a37252",
   "metadata": {},
   "outputs": [
    {
     "name": "stdout",
     "output_type": "stream",
     "text": [
      "Training Score: 93.26%\n",
      "Testing Score: 92.67%\n"
     ]
    }
   ],
   "source": [
    "from sklearn.model_selection import GridSearchCV\n",
    "from sklearn.linear_model import Ridge\n",
    "param_grid = {\n",
    "    'alpha': [0.1, 1, 10, 100]  # Regularization strength\n",
    "}\n",
    "ridge_model = Ridge()\n",
    "grid_search = GridSearchCV(ridge_model, param_grid, cv=5, scoring='neg_mean_squared_error', n_jobs=-1)\n",
    "grid_search.fit(X_train_final, y_train)\n",
    "best_params = grid_search.best_params_\n",
    "best_ridge_model = grid_search.best_estimator_\n",
    "best_ridge_model.fit(X_train_final, y_train)\n",
    "train_score = best_ridge_model.score(X_train_final, y_train) * 100\n",
    "print(f'Training Score: {train_score:.2f}%')\n",
    "test_score = best_ridge_model.score(X_test_final, y_test) * 100\n",
    "print(f'Testing Score: {test_score:.2f}%')"
   ]
  },
  {
   "cell_type": "code",
   "execution_count": 55,
   "id": "992abbec",
   "metadata": {},
   "outputs": [
    {
     "name": "stdout",
     "output_type": "stream",
     "text": [
      "Mean Absolute Error Value is :  0.29546053057251819\n"
     ]
    }
   ],
   "source": [
    "#Calculating Prediction\n",
    "y_pred = best_ridge_model.predict(X_test_final)\n",
    "MAEValue = mean_absolute_error(y_test, y_pred, multioutput='uniform_average') # it can be raw_values\n",
    "print('Mean Absolute Error Value is : ', MAEValue)"
   ]
  },
  {
   "cell_type": "code",
   "execution_count": 56,
   "id": "0cba687a",
   "metadata": {},
   "outputs": [
    {
     "name": "stdout",
     "output_type": "stream",
     "text": [
      "Mean Squared Error Value is :  0.0914638797249724346\n"
     ]
    }
   ],
   "source": [
    "MSEValue = mean_squared_error(y_test, y_pred, multioutput='uniform_average') # it can be raw_values\n",
    "print('Mean Squared Error Value is : ', MSEValue)"
   ]
  },
  {
   "cell_type": "code",
   "execution_count": null,
   "id": "2e1e40d2",
   "metadata": {},
   "outputs": [],
   "source": []
  }
 ],
 "metadata": {
  "kernelspec": {
   "display_name": "Python 3 (ipykernel)",
   "language": "python",
   "name": "python3"
  },
  "language_info": {
   "codemirror_mode": {
    "name": "ipython",
    "version": 3
   },
   "file_extension": ".py",
   "mimetype": "text/x-python",
   "name": "python",
   "nbconvert_exporter": "python",
   "pygments_lexer": "ipython3",
   "version": "3.10.9"
  }
 },
 "nbformat": 4,
 "nbformat_minor": 5
}
